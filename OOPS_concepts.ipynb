{
 "cells": [
  {
   "cell_type": "code",
   "execution_count": 1,
   "metadata": {},
   "outputs": [],
   "source": [
    "#classes: blue print for creating objects, eg: class Human, object male/female \n",
    "#objects: instance of a class"
   ]
  },
  {
   "cell_type": "code",
   "execution_count": 2,
   "metadata": {},
   "outputs": [],
   "source": [
    "#this is how we create a class 'Point' and add a method 'draw' inside it\n",
    "class Point:\n",
    "    def draw(self):\n",
    "        print('Draw')\n",
    "        \n",
    "#this is how we create an object of point class \n",
    "point_obj = Point()"
   ]
  },
  {
   "cell_type": "code",
   "execution_count": 3,
   "metadata": {},
   "outputs": [
    {
     "name": "stdout",
     "output_type": "stream",
     "text": [
      "Draw\n"
     ]
    }
   ],
   "source": [
    "#calling function of the class on the object\n",
    "point_obj.draw()"
   ]
  },
  {
   "cell_type": "code",
   "execution_count": 4,
   "metadata": {},
   "outputs": [
    {
     "data": {
      "text/plain": [
       "False"
      ]
     },
     "execution_count": 4,
     "metadata": {},
     "output_type": "execute_result"
    }
   ],
   "source": [
    "#this helps us to know if an object is an instance of a specific class, returns T/F\n",
    "\n",
    "isinstance(point_obj, Point) #returns True \n",
    "\n",
    "isinstance(point_obj, int)"
   ]
  },
  {
   "cell_type": "code",
   "execution_count": 5,
   "metadata": {},
   "outputs": [
    {
     "name": "stdout",
     "output_type": "stream",
     "text": [
      "My name is Jay\n",
      "I like to sing\n"
     ]
    }
   ],
   "source": [
    "#constructor and 'self'\n",
    "class Human:\n",
    "    \n",
    "    #this is a constructor of the class human, self is a reference to current object \n",
    "    def __init__(self,x,y):\n",
    "        self.x=x\n",
    "        self.y=y\n",
    "    \n",
    "    def name(self):\n",
    "        print('My name is ' + self.x)\n",
    "        \n",
    "    def hobby(self):\n",
    "        print('I like to ' + self.y)\n",
    "\n",
    "j=Human('Jay', 'sing')\n",
    "\n",
    "j.name()\n",
    "\n",
    "j.hobby()"
   ]
  },
  {
   "cell_type": "code",
   "execution_count": 6,
   "metadata": {},
   "outputs": [
    {
     "name": "stdout",
     "output_type": "stream",
     "text": [
      "Color: white\n",
      "Color: White\n"
     ]
    }
   ],
   "source": [
    "#class vs instance attributes \n",
    "#attribues like x,y from the above code are object level but we can also have class level attributes \n",
    "\n",
    "class Animal:\n",
    "    def __init__(self,x):\n",
    "        self.x=x\n",
    "        print('Color: ' + x)\n",
    "        \n",
    "#creating an instance \n",
    "cat=Animal('white')\n",
    "\n",
    "#Animal class with default attribute\n",
    "class Animal:\n",
    "    #this is the default attribute of all the objects in the class \n",
    "    default_color = 'black'\n",
    "    \n",
    "    def __init__(self,x):\n",
    "        self.x=x\n",
    "        print('Color: ' + x)\n",
    "        \n",
    "#creating an instance \n",
    "cat = Animal('White')\n",
    "\n",
    "#the default class attribute can be accessed by class as well as object \n",
    "cat.default_color\n",
    "Animal.default_color\n",
    "\n",
    "#but it can be changed only using the class \n",
    "Animal.default_color = 'red'"
   ]
  },
  {
   "cell_type": "code",
   "execution_count": 7,
   "metadata": {},
   "outputs": [],
   "source": [
    "#the above concept of class and object attribute can be extended to methods, meaning we can have a class method\n",
    "class Point:\n",
    "    def __init__(self,x,y):\n",
    "        self.x=x\n",
    "        self.y=y\n",
    "\n",
    "#this is a class method which needs to be denoted by '@classmethod' and 'cls' is to reference self\n",
    "    @classmethod\n",
    "    def class_method(cls):\n",
    "        cls.x=1\n",
    "        cls.y=2\n"
   ]
  },
  {
   "cell_type": "code",
   "execution_count": 20,
   "metadata": {},
   "outputs": [
    {
     "name": "stdout",
     "output_type": "stream",
     "text": [
      "False\n",
      "True\n"
     ]
    }
   ],
   "source": [
    "#magic method : have __ [2 underscores] at the beginning and end of the name and are called automatically by interpreter\n",
    "#eg: __init__ and __str__\n",
    "\n",
    "#comparing 2 objects\n",
    "class Game:\n",
    "    def __init__(self,x):\n",
    "        self.x=x\n",
    "        \n",
    "g1=Game(2)\n",
    "g2=Game(2)\n",
    "\n",
    "print(g1==g2)\n",
    "\n",
    "#result of the above statement is false because '==' compares the address of the objects; which are different \n",
    "\n",
    "#read: https://rszalski.github.io/magicmethods/\n",
    "\n",
    "#to resolve the issue i.e. to compare the parameters and not the address, we add __eq__ magicmethod \n",
    "\n",
    "#comparing 2 objects\n",
    "class Game:\n",
    "    def __init__(self,x):\n",
    "        self.x=x\n",
    "        \n",
    "    def __eq__(self, other):\n",
    "        return self.x==other.x\n",
    "        \n",
    "g1=Game(2)\n",
    "g2=Game(2)\n",
    "\n",
    "print(g1==g2)\n",
    "\n",
    "#if we want <,> and others we will need other magic methods \n",
    "#similarly numeric methods can be added "
   ]
  },
  {
   "cell_type": "code",
   "execution_count": null,
   "metadata": {},
   "outputs": [],
   "source": [
    "#Custom containers"
   ]
  }
 ],
 "metadata": {
  "kernelspec": {
   "display_name": "Python 3",
   "language": "python",
   "name": "python3"
  },
  "language_info": {
   "codemirror_mode": {
    "name": "ipython",
    "version": 3
   },
   "file_extension": ".py",
   "mimetype": "text/x-python",
   "name": "python",
   "nbconvert_exporter": "python",
   "pygments_lexer": "ipython3",
   "version": "3.7.7"
  }
 },
 "nbformat": 4,
 "nbformat_minor": 4
}
